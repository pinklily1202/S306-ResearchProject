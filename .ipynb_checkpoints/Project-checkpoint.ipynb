{
 "cells": [
  {
   "cell_type": "markdown",
   "id": "fe20f83e-a4ce-4c13-a1a8-d76e3c35f5de",
   "metadata": {},
   "source": [
    "yoyo"
   ]
  },
  {
   "cell_type": "code",
   "execution_count": null,
   "id": "6d6dbf47-bbf7-4f3c-9523-bb15fc467786",
   "metadata": {},
   "outputs": [],
   "source": []
  }
 ],
 "metadata": {
  "kernelspec": {
   "display_name": "R",
   "language": "R",
   "name": "ir"
  },
  "language_info": {
   "codemirror_mode": "r",
   "file_extension": ".r",
   "mimetype": "text/x-r-source",
   "name": "R",
   "pygments_lexer": "r",
   "version": "4.4.3"
  }
 },
 "nbformat": 4,
 "nbformat_minor": 5
}
